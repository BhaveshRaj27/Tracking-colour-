{
 "cells": [
  {
   "cell_type": "code",
   "execution_count": 1,
   "metadata": {},
   "outputs": [],
   "source": [
    "import cv2\n",
    "import numpy as np"
   ]
  },
  {
   "cell_type": "code",
   "execution_count": 2,
   "metadata": {},
   "outputs": [],
   "source": [
    "def empty_function():\n",
    "    pass"
   ]
  },
  {
   "cell_type": "code",
   "execution_count": 4,
   "metadata": {},
   "outputs": [],
   "source": [
    "cap = cv2.VideoCapture(0)\n",
    "low = np.array([100,50,50])\n",
    "high = np.array([140,255,255])\n",
    "low1 = np.array([0,50,50])\n",
    "high1 = np.array([10,255,255])\n",
    "while True :\n",
    "    if cap.isOpened():\n",
    "        ret,frame = cap.read()\n",
    "        \n",
    "        \n",
    "    op = cv2.cvtColor(frame,cv2.COLOR_BGR2HSV) \n",
    "    img_mask= cv2.inRange(op,low,high)\n",
    "    img_mask1 = cv2.inRange(op,low1,high1)\n",
    "    output = cv2.bitwise_and(frame,op,mask = img_mask)\n",
    "    output1= cv2.bitwise_and(frame,op,mask=img_mask1)\n",
    "    output2=cv2.bitwise_or(output,output1)\n",
    "    cv2.imshow('img',output2)\n",
    "    cv2.imshow('blue is best',output)\n",
    "    cv2.imshow('red',output1)\n",
    "    if cv2.waitKey(1)==27:\n",
    "        break\n",
    "    \n",
    "cv2.destroyAllWindows()    "
   ]
  },
  {
   "cell_type": "code",
   "execution_count": null,
   "metadata": {},
   "outputs": [],
   "source": []
  }
 ],
 "metadata": {
  "kernelspec": {
   "display_name": "Python 3",
   "language": "python",
   "name": "python3"
  },
  "language_info": {
   "codemirror_mode": {
    "name": "ipython",
    "version": 3
   },
   "file_extension": ".py",
   "mimetype": "text/x-python",
   "name": "python",
   "nbconvert_exporter": "python",
   "pygments_lexer": "ipython3",
   "version": "3.7.1"
  }
 },
 "nbformat": 4,
 "nbformat_minor": 2
}
